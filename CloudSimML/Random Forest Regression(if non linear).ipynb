{
 "cells": [
  {
   "cell_type": "code",
   "execution_count": 3,
   "metadata": {},
   "outputs": [
    {
     "name": "stdout",
     "output_type": "stream",
     "text": [
      "Mean Squared Error: 0.017618725695400253\n",
      "[0.29243018 0.6188024  0.66730208 0.30971577 0.43149778 0.21190064\n",
      " 0.14332461 0.86343002 0.83031054 0.67691938]\n"
     ]
    }
   ],
   "source": [
    "import numpy as np\n",
    "from sklearn.ensemble import RandomForestRegressor\n",
    "from sklearn.metrics import mean_squared_error\n",
    "\n",
    "def collect_data():\n",
    "    np.random.seed(42)\n",
    "    num_vms = 10\n",
    "    vm_cpu_utilization = np.random.rand(num_vms)  # Example CPU utilization of VMs\n",
    "    vm_memory_utilization = np.random.rand(num_vms)  # Example memory utilization of VMs\n",
    "    task_arrivals = np.random.randint(0, 100, size=(num_vms,))  # Example task arrival times\n",
    "    actual_response_time = np.random.rand(num_vms)  # Example actual response time data\n",
    "    return vm_cpu_utilization, vm_memory_utilization, task_arrivals, actual_response_time\n",
    "\n",
    "def train_model(X, y):\n",
    "    model = RandomForestRegressor(n_estimators=100, random_state=42)\n",
    "    model.fit(X, y)\n",
    "    return model\n",
    "\n",
    "def allocate_resources(vm_cpu_utilization, vm_memory_utilization, task_arrivals, model):\n",
    "    X = np.column_stack((vm_cpu_utilization, vm_memory_utilization, task_arrivals))\n",
    "    predicted_response_time = model.predict(X)\n",
    "    return predicted_response_time\n",
    "\n",
    "def evaluate_performance(actual_response_time, predicted_response_time):\n",
    "    mse = mean_squared_error(actual_response_time, predicted_response_time)\n",
    "    return mse\n",
    "vm_cpu_utilization, vm_memory_utilization, task_arrivals, actual_response_time = collect_data()\n",
    "X_train = np.column_stack((vm_cpu_utilization, vm_memory_utilization, task_arrivals))\n",
    "model = train_model(X_train, actual_response_time)\n",
    "predicted_response_time = allocate_resources(vm_cpu_utilization, vm_memory_utilization, task_arrivals, model)\n",
    "mse = evaluate_performance(actual_response_time, predicted_response_time)\n",
    "print(\"Mean Squared Error:\", mse)\n",
    "print(predicted_response_time)"
   ]
  }
 ],
 "metadata": {
  "kernelspec": {
   "display_name": "Python 3",
   "language": "python",
   "name": "python3"
  },
  "language_info": {
   "codemirror_mode": {
    "name": "ipython",
    "version": 3
   },
   "file_extension": ".py",
   "mimetype": "text/x-python",
   "name": "python",
   "nbconvert_exporter": "python",
   "pygments_lexer": "ipython3",
   "version": "3.10.6"
  }
 },
 "nbformat": 4,
 "nbformat_minor": 2
}
